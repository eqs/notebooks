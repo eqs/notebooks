{
 "cells": [
  {
   "cell_type": "markdown",
   "metadata": {},
   "source": [
    "# A Study Note of Scientific Computation Libraries on Python\n",
    "\n",
    "* Pythonの科学計算ライブラリについて勉強するためのノート\n",
    "\n",
    "## 環境構築\n",
    "\n",
    "\n",
    "### 参考文献\n",
    "\n",
    "* データサイエンティストを目指す人のpython環境構築 2016 - Qiita\n",
    "    * http://qiita.com/y__sama/items/5b62d31cb7e6ed50f02c\n",
    "\n",
    "### Anaconda\n",
    "\n",
    "* Pythonのディストリビューションのひとつで，NumpyやMatplotlib等の科学計算において主要なライブラリを含んでいる．\n",
    "* Minicondaは，AnacondaをPython本体とパッケージ管理ツールcondaのみの最小限の構成にしたものである．\n",
    "    * http://conda.pydata.org/miniconda.html\n",
    "* condaはAnacondaの環境におけるパッケージ管理ツールである．\n",
    "    * pipはPyPIからパッケージを落としてくるが，condaはContinuum Analyticsのリポジトリからパッケージを落としてくるっぽい？\n",
    "    * pipと違い，依存パッケージも検索して一緒に落としてきてくれるので超便利．\n",
    "    * pipと併用可能なのでcondaに無いパッケージはpipを使って落とせばおｋ．\n",
    "\n",
    "## numpy\n",
    "\n",
    "## scipy\n",
    "\n",
    "## matplotlib\n",
    "\n",
    "## scikit-learn\n",
    "\n",
    "## pandas\n",
    "\n",
    "* StatsFragments : Python pandas データ選択処理をちょっと詳しく シリーズ\n",
    "    * http://sinhrks.hatenablog.com/entry/2014/11/12/233216\n",
    "    * http://sinhrks.hatenablog.com/entry/2014/11/15/230705\n",
    "    * http://sinhrks.hatenablog.com/entry/2014/11/12/233216\n",
    "    \n",
    "## OpenCV\n",
    "\n",
    "* 下記コマンドでインストール可能なので，他の言語よりも導入がかなり楽\n",
    "```\n",
    "conda install -c https://conda.binstar.org/menpo opencv3\n",
    "```"
   ]
  }
 ],
 "metadata": {
  "kernelspec": {
   "display_name": "Python 3",
   "language": "python",
   "name": "python3"
  },
  "language_info": {
   "codemirror_mode": {
    "name": "ipython",
    "version": 3
   },
   "file_extension": ".py",
   "mimetype": "text/x-python",
   "name": "python",
   "nbconvert_exporter": "python",
   "pygments_lexer": "ipython3",
   "version": "3.5.2"
  }
 },
 "nbformat": 4,
 "nbformat_minor": 0
}
