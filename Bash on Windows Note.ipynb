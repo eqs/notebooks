{
 "cells": [
  {
   "cell_type": "markdown",
   "metadata": {},
   "source": [
    "# Bash on Ubuntu on Windowsについて調べたメモ\n",
    "\n",
    "## 環境構築\n",
    "\n",
    "* 【シェル芸人への道】Bash on Windowsを探検する - Qiita\n",
    "    * http://qiita.com/t_nakayama0714/items/9d7cfc5029a9b2ea423d\n",
    "* How to access Windows folders from Bash on Ubuntu on Windows - Super User\n",
    "    * http://superuser.com/questions/1066261/how-to-access-windows-folders-from-bash-on-ubuntu-on-windows\n",
    "* Bash on Ubuntu on Windows で GUI 環境を構築する - Qiita\n",
    "    * http://qiita.com/nanasess/items/d944383788c95e075865\n",
    "* Bash on Ubuntu on Windows + XmingによるGUI - Qiita\n",
    "    * http://qiita.com/makky0620/items/e31edc90f22340d791ff\n",
    "* Bash on Ubuntu on Windows + オールインワンmintty - Qiita\n",
    "    * http://qiita.com/shiena/items/b8036514c217000a221e"
   ]
  }
 ],
 "metadata": {
  "anaconda-cloud": {},
  "kernelspec": {
   "display_name": "Python [default]",
   "language": "python",
   "name": "python3"
  },
  "language_info": {
   "codemirror_mode": {
    "name": "ipython",
    "version": 3
   },
   "file_extension": ".py",
   "mimetype": "text/x-python",
   "name": "python",
   "nbconvert_exporter": "python",
   "pygments_lexer": "ipython3",
   "version": "3.5.2"
  }
 },
 "nbformat": 4,
 "nbformat_minor": 0
}
