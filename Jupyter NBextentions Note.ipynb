{
 "cells": [
  {
   "cell_type": "markdown",
   "metadata": {},
   "source": [
    "# Notebook of Jupyter Notebook Extensions\n",
    "\n",
    "## Summary\n",
    "\n",
    "* https://docs.continuum.io/anaconda/jupyter-notebook-extensions\n",
    "\n",
    "## Slideshow\n",
    "\n",
    "* RISE : Jupyter slideshow extension\n",
    "    * https://github.com/damianavila/RISE\n",
    "* nbpresent : Jupyter slideshow extension\n",
    "    * https://github.com/Anaconda-Platform/nbpresent"
   ]
  }
 ],
 "metadata": {
  "anaconda-cloud": {},
  "kernelspec": {
   "display_name": "Python [default]",
   "language": "python",
   "name": "python3"
  },
  "language_info": {
   "codemirror_mode": {
    "name": "ipython",
    "version": 3
   },
   "file_extension": ".py",
   "mimetype": "text/x-python",
   "name": "python",
   "nbconvert_exporter": "python",
   "pygments_lexer": "ipython3",
   "version": "3.5.2"
  }
 },
 "nbformat": 4,
 "nbformat_minor": 0
}
