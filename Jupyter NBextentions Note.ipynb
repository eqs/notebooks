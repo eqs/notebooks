{
 "cells": [
  {
   "cell_type": "markdown",
   "metadata": {},
   "source": [
    "# Notebook of Jupyter Notebook Extensions\n",
    "\n",
    "## Summary\n",
    "\n",
    "* https://docs.continuum.io/anaconda/jupyter-notebook-extensions\n",
    "\n",
    "## Slideshow\n",
    "\n",
    "* RISE : Jupyter slideshow extension\n",
    "    * https://github.com/damianavila/RISE\n",
    "* nbpresent : Jupyter slideshow extension\n",
    "    * https://github.com/Anaconda-Platform/nbpresent\n",
    "\n",
    "## 拡張機能の導入\n",
    "\n",
    "1. 下記コマンドの実行（参考：http://d.hatena.ne.jp/dichika/20160622/p1）\n",
    "```\n",
    "conda install anaconda-nb-extensions -c anaconda-nb-extensions\n",
    "```\n",
    "1. http://localhost:8888/nbextensions/ にアクセス\n",
    "\n",
    "\n",
    "## References\n",
    "\n",
    "* Jupyter (iPython) Notebookを使って技術ノート環境を構築する方法 - MyEnigma\n",
    "    * http://myenigma.hatenablog.com/entry/2016/02/20/183423"
   ]
  }
 ],
 "metadata": {
  "anaconda-cloud": {},
  "kernelspec": {
   "display_name": "Python [default]",
   "language": "python",
   "name": "python3"
  },
  "language_info": {
   "codemirror_mode": {
    "name": "ipython",
    "version": 3
   },
   "file_extension": ".py",
   "mimetype": "text/x-python",
   "name": "python",
   "nbconvert_exporter": "python",
   "pygments_lexer": "ipython3",
   "version": "3.5.1"
  }
 },
 "nbformat": 4,
 "nbformat_minor": 0
}
