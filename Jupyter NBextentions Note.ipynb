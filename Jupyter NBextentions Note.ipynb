{
 "cells": [
  {
   "cell_type": "markdown",
   "metadata": {},
   "source": [
    "# Notebook of Jupyter Notebook Extensions\n",
    "\n",
    "## Summary\n",
    "\n",
    "* https://docs.continuum.io/anaconda/jupyter-notebook-extensions\n",
    "\n",
    "## Slideshow\n",
    "\n",
    "* RISE : Jupyter slideshow extension\n",
    "    * https://github.com/damianavila/RISE\n",
    "* nbpresent : Jupyter slideshow extension\n",
    "    * https://github.com/Anaconda-Platform/nbpresent\n",
    "\n",
    "## 拡張機能の導入\n",
    "\n",
    "1. 下記コマンドの実行（参考：http://qiita.com/Tsutomu-KKE@github/items/1326e05eb992a8aa849d）\n",
    "```\n",
    "conda install -y -c conda-forge jupyter_nbextensions_configurator jupyter_contrib_nbextensions\n",
    "```\n",
    "1. http://localhost:8888/nbextensions/ にアクセス\n",
    "\n",
    "\n",
    "## References\n",
    "\n",
    "* Jupyter (iPython) Notebookを使って技術ノート環境を構築する方法 - MyEnigma\n",
    "    * http://myenigma.hatenablog.com/entry/2016/02/20/183423"
   ]
  }
 ],
 "metadata": {
  "anaconda-cloud": {},
  "hide_input": false,
  "kernelspec": {
   "display_name": "Python [default]",
   "language": "python",
   "name": "python3"
  },
  "language_info": {
   "codemirror_mode": {
    "name": "ipython",
    "version": 3
   },
   "file_extension": ".py",
   "mimetype": "text/x-python",
   "name": "python",
   "nbconvert_exporter": "python",
   "pygments_lexer": "ipython3",
   "version": "3.5.1"
  },
  "latex_envs": {
   "LaTeX_envs_menu_present": true,
   "bibliofile": "biblio.bib",
   "cite_by": "apalike",
   "current_citInitial": 1,
   "eqLabelWithNumbers": true,
   "eqNumInitial": 1,
   "labels_anchors": false,
   "latex_user_defs": false,
   "report_style_numbering": false,
   "user_envs_cfg": false
  },
  "toc": {
   "colors": {
    "hover_highlight": "#DAA520",
    "running_highlight": "#FF0000",
    "selected_highlight": "#FFD700"
   },
   "moveMenuLeft": true,
   "nav_menu": {
    "height": "122px",
    "width": "252px"
   },
   "navigate_menu": true,
   "number_sections": true,
   "sideBar": true,
   "threshold": 4,
   "toc_cell": false,
   "toc_section_display": "block",
   "toc_window_display": false
  }
 },
 "nbformat": 4,
 "nbformat_minor": 0
}
