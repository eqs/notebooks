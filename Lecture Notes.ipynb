{
 "cells": [
  {
   "cell_type": "markdown",
   "metadata": {},
   "source": [
    "# 役に立ちそうな講義資料を集めたノート\n",
    "\n",
    "## 情報理論\n",
    "\n",
    "* 東京農工大学 工学部 情報工学科　「情報理論」\n",
    "    * http://web.tuat.ac.jp/~s-hotta/info/\n",
    "* 北海道大学 情報科学研究科　「2005年度　情報理論講義ノート」\n",
    "    * http://eprints.lib.hokudai.ac.jp/dspace/handle/2115/772\n",
    "    \n",
    "## 画像処理\n",
    "\n",
    "* 東京工業大学　「画像解析論」\n",
    "    * http://www.isl.titech.ac.jp/~nagahashilab/member/longb/imageanalysis/lecture_note2.html"
   ]
  }
 ],
 "metadata": {
  "anaconda-cloud": {},
  "kernelspec": {
   "display_name": "Python [default]",
   "language": "python",
   "name": "python3"
  },
  "language_info": {
   "codemirror_mode": {
    "name": "ipython",
    "version": 3
   },
   "file_extension": ".py",
   "mimetype": "text/x-python",
   "name": "python",
   "nbconvert_exporter": "python",
   "pygments_lexer": "ipython3",
   "version": "3.5.2"
  }
 },
 "nbformat": 4,
 "nbformat_minor": 0
}
