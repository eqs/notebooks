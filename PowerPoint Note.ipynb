{
 "cells": [
  {
   "cell_type": "markdown",
   "metadata": {},
   "source": [
    "# Power Pointに関するノート\n",
    "\n",
    "## 便利なプラグイン\n",
    "\n",
    "### PPspliT\n",
    "\n",
    "* URL : http://www.maxonthenet.altervista.org/ppsplit.php\n",
    "* Power Pointのアニメーションを分割して別々のスライドに分けることができるプラグイン．\n",
    "* ページ番号もうまいこと調整してくれる．\n",
    "* Power Pointで作った発表資料をPDFにしたいときに便利\n",
    "\n",
    "### Iguana TeX\n",
    "\n",
    "* URL : http://www.jonathanleroux.org/software/iguanatex/\n",
    "* Power Point上で書いたTeXのコードをコンパイルしてスライドに貼り付けられるプラグイン．\n",
    "* PCにLaTeXをインストールしておく必要がある．\n",
    "* Power Pointの数式エディタを使いたくないときに便利．\n",
    "* MacユーザーはLaTeXiT使うと良さげ\n",
    "    * https://texwiki.texjp.org/?LaTeXiT\n",
    "    * https://www.chachatelier.fr/latexit/"
   ]
  }
 ],
 "metadata": {
  "anaconda-cloud": {},
  "kernelspec": {
   "display_name": "Python [default]",
   "language": "python",
   "name": "python3"
  },
  "language_info": {
   "codemirror_mode": {
    "name": "ipython",
    "version": 3
   },
   "file_extension": ".py",
   "mimetype": "text/x-python",
   "name": "python",
   "nbconvert_exporter": "python",
   "pygments_lexer": "ipython3",
   "version": "3.5.1"
  }
 },
 "nbformat": 4,
 "nbformat_minor": 1
}
