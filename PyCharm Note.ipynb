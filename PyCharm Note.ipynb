{
 "cells": [
  {
   "cell_type": "markdown",
   "metadata": {},
   "source": [
    "# PyCharmの導入メモ\n",
    "\n",
    "## 参考文献\n",
    "\n",
    "* 清水川さんのPyConJP 2014の発表：CH06 PyCharm活用術\n",
    "    * https://www.youtube.com/watch?v=qE8jc-p1ufY\n",
    "* PyCharm + Vimプラグイン\n",
    "    * http://nwpct1.hatenablog.com/entry/pycharm-vim\n",
    "* PyCharm + Git\n",
    "    * http://nwpct1.hatenablog.com/entry/pycharm-development"
   ]
  }
 ],
 "metadata": {
  "kernelspec": {
   "display_name": "Python 3",
   "language": "python",
   "name": "python3"
  },
  "language_info": {
   "codemirror_mode": {
    "name": "ipython",
    "version": 3
   },
   "file_extension": ".py",
   "mimetype": "text/x-python",
   "name": "python",
   "nbconvert_exporter": "python",
   "pygments_lexer": "ipython3",
   "version": "3.5.2"
  }
 },
 "nbformat": 4,
 "nbformat_minor": 0
}
