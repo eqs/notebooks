{
 "cells": [
  {
   "cell_type": "markdown",
   "metadata": {},
   "source": [
    "# Qtに関するメモ\n",
    "\n",
    "## 開発環境\n",
    "\n",
    "* Python 3.5 + PyQt5.6\n",
    "* GUI設計はPyQtに付属しているQt Designerで可能（変なところに実行ファイルが入っているので注意）\n",
    "* .uiファイルはXMLっぽい感じなのでGitで管理可能．\n",
    "\n",
    "## Documentation\n",
    "\n",
    "* http://pyqt.sourceforge.net/Docs/PyQt5/\n",
    "\n",
    "## Tutorial\n",
    "\n",
    "* http://doc.qt.io/qt-5/designer-quick-start.html\n",
    "\n",
    "* http://zetcode.com/gui/pyqt5/\n",
    "* http://www.bogotobogo.com/Qt/Qt5_TutorialHelloWorld.php\n",
    "\n",
    "## 勉強用の記事\n",
    "\n",
    "* https://showa-yojyo.github.io/notebook/python-pyqt5.html\n",
    "* http://myenigma.hatenablog.com/entry/2015/10/09/223629\n",
    "* http://kohshi.blogspot.jp/2016/01/pyqtguiuiload.html\n",
    "* http://taurano.hatenablog.com/entry/2015/12/06/223018\n",
    "* http://stackoverflow.com/questions/3492739/auto-expanding-layout-with-qt-designer\n",
    "* Border Layoutのサンプル (C++)\n",
    "    * http://doc.qt.io/qt-5/qtwidgets-layouts-borderlayout-example.html"
   ]
  }
 ],
 "metadata": {
  "anaconda-cloud": {},
  "kernelspec": {
   "display_name": "Python [default]",
   "language": "python",
   "name": "python3"
  },
  "language_info": {
   "codemirror_mode": {
    "name": "ipython",
    "version": 3
   },
   "file_extension": ".py",
   "mimetype": "text/x-python",
   "name": "python",
   "nbconvert_exporter": "python",
   "pygments_lexer": "ipython3",
   "version": "3.5.1"
  }
 },
 "nbformat": 4,
 "nbformat_minor": 1
}
