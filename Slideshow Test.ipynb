{
 "cells": [
  {
   "cell_type": "markdown",
   "metadata": {
    "nbpresent": {
     "id": "7a76b60b-0547-4c06-b388-ad864bae3b3b"
    },
    "slideshow": {
     "slide_type": "slide"
    }
   },
   "source": [
    "# Test of Slideshow on Jupyter Notebook\n",
    "\n",
    "Presenter: eqs"
   ]
  },
  {
   "cell_type": "markdown",
   "metadata": {
    "nbpresent": {
     "id": "c43cecbf-7b2b-4cef-8488-9e1cd80aaca3"
    },
    "slideshow": {
     "slide_type": "slide"
    }
   },
   "source": [
    "# Purpose of This Presentation\n",
    "\n",
    "* This Presentation was created to check behavior of RISE.\n",
    "    * RISE is Jupyter Notebook extension for Slideshow."
   ]
  },
  {
   "cell_type": "markdown",
   "metadata": {
    "nbpresent": {
     "id": "b3429d7d-5f38-4902-9977-e5ba04bf82fb"
    },
    "slideshow": {
     "slide_type": "slide"
    }
   },
   "source": [
    "# MathJax Test\n",
    "\n",
    "* Jupyter Notebook can present equations by using MathJax.\n",
    "    * Example: Gauss' distribution is defined as:\n",
    "\\begin{align}\n",
    "p(x) = \\frac{1}{\\sqrt{2\\pi}\\sigma}\\exp{\\left( -\\frac{(x-\\mu)^2}{\\sigma^2} \\right)}\n",
    "\\end{align}"
   ]
  },
  {
   "cell_type": "markdown",
   "metadata": {
    "nbpresent": {
     "id": "843babc7-8219-43f6-9de1-f7e031e34bca"
    },
    "slideshow": {
     "slide_type": "slide"
    }
   },
   "source": [
    "# Python Code\n",
    "\n",
    "* Jupyter Notebook can execute Python code and record its results.\n",
    "    * Example: Compute $1 + 2 + \\cdots + 100$"
   ]
  },
  {
   "cell_type": "code",
   "execution_count": 2,
   "metadata": {
    "collapsed": false,
    "nbpresent": {
     "id": "c1bc8d4a-a286-4142-bb8a-a8cb0fa3dd43"
    },
    "slideshow": {
     "slide_type": "slide"
    }
   },
   "outputs": [
    {
     "data": {
      "text/plain": [
       "5050"
      ]
     },
     "execution_count": 2,
     "metadata": {},
     "output_type": "execute_result"
    }
   ],
   "source": [
    "import numpy as np\n",
    "\n",
    "a = np.arange(1, 101)\n",
    "np.sum(a)"
   ]
  },
  {
   "cell_type": "markdown",
   "metadata": {
    "nbpresent": {
     "id": "fdfc1459-3c18-47e5-8839-08e2be947bd7"
    },
    "slideshow": {
     "slide_type": "slide"
    }
   },
   "source": [
    "# Conclusion\n",
    "\n",
    "* This Presentation is Test of RISE.\n",
    "* Jupyter Notebook is awesome."
   ]
  }
 ],
 "metadata": {
  "anaconda-cloud": {},
  "celltoolbar": "Slideshow",
  "kernelspec": {
   "display_name": "Python [default]",
   "language": "python",
   "name": "python3"
  },
  "language_info": {
   "codemirror_mode": {
    "name": "ipython",
    "version": 3
   },
   "file_extension": ".py",
   "mimetype": "text/x-python",
   "name": "python",
   "nbconvert_exporter": "python",
   "pygments_lexer": "ipython3",
   "version": "3.5.1"
  },
  "nbpresent": {
   "slides": {
    "34a1d436-4e84-4a25-85d4-7919fb875254": {
     "id": "34a1d436-4e84-4a25-85d4-7919fb875254",
     "layout": "treemap",
     "prev": null,
     "regions": {
      "eb3c3402-b04e-4ca8-940e-bcdea9f8cee3": {
       "attrs": {
        "height": 1,
        "pad": 0.01,
        "treemap:weight": 1,
        "width": 1,
        "x": 0,
        "y": 0
       },
       "content": {
        "cell": "7a76b60b-0547-4c06-b388-ad864bae3b3b",
        "part": "whole"
       },
       "id": "eb3c3402-b04e-4ca8-940e-bcdea9f8cee3"
      }
     }
    },
    "518df21c-9c7e-46a7-8d8b-8fa6b1ddd223": {
     "id": "518df21c-9c7e-46a7-8d8b-8fa6b1ddd223",
     "layout": "treemap",
     "prev": "722f5146-433c-42e8-851f-a260d8079819",
     "regions": {
      "bb2c4642-9d81-4d72-b95d-2c9031148a64": {
       "attrs": {
        "height": 1,
        "pad": 0.01,
        "treemap:weight": 1,
        "width": 1,
        "x": 0,
        "y": 0
       },
       "content": {
        "cell": "b3429d7d-5f38-4902-9977-e5ba04bf82fb",
        "part": "whole"
       },
       "id": "bb2c4642-9d81-4d72-b95d-2c9031148a64"
      }
     }
    },
    "722f5146-433c-42e8-851f-a260d8079819": {
     "id": "722f5146-433c-42e8-851f-a260d8079819",
     "layout": "treemap",
     "prev": "34a1d436-4e84-4a25-85d4-7919fb875254",
     "regions": {
      "ec67335f-c236-4efd-a927-a0f6a91665bc": {
       "attrs": {
        "height": 1,
        "pad": 0.01,
        "treemap:weight": 1,
        "width": 1,
        "x": 0,
        "y": 0
       },
       "content": {
        "cell": "c43cecbf-7b2b-4cef-8488-9e1cd80aaca3",
        "part": "whole"
       },
       "id": "ec67335f-c236-4efd-a927-a0f6a91665bc"
      }
     }
    },
    "c5aa346a-1ac2-4acd-a6e2-4fe025eaf3bb": {
     "id": "c5aa346a-1ac2-4acd-a6e2-4fe025eaf3bb",
     "prev": "cec90cd1-4760-4e03-b286-c3a946b0ef39",
     "regions": {
      "12809f99-da20-459e-9cd5-6ccee075812d": {
       "attrs": {
        "height": 1,
        "width": 1,
        "x": 0,
        "y": 0
       },
       "content": {
        "cell": "fdfc1459-3c18-47e5-8839-08e2be947bd7",
        "part": "whole"
       },
       "id": "12809f99-da20-459e-9cd5-6ccee075812d"
      }
     }
    },
    "cec90cd1-4760-4e03-b286-c3a946b0ef39": {
     "id": "cec90cd1-4760-4e03-b286-c3a946b0ef39",
     "layout": "grid",
     "prev": "518df21c-9c7e-46a7-8d8b-8fa6b1ddd223",
     "regions": {
      "290ce003-7987-43fe-976b-6d5fca9868ed": {
       "attrs": {
        "height": 0.5,
        "pad": 0.01,
        "treemap:weight": 1,
        "width": 1,
        "x": 0,
        "y": 0.5
       },
       "content": {
        "cell": "c1bc8d4a-a286-4142-bb8a-a8cb0fa3dd43",
        "part": "whole"
       },
       "height": 1,
       "id": "290ce003-7987-43fe-976b-6d5fca9868ed",
       "width": 1
      },
      "beabed98-6fd0-4066-82b2-c9077db1fe83": {
       "attrs": {
        "height": 0.5,
        "pad": 0.01,
        "treemap:weight": 1,
        "width": 1,
        "x": 0,
        "y": -0.0009340047505938207
       },
       "content": {
        "cell": "843babc7-8219-43f6-9de1-f7e031e34bca",
        "part": "whole"
       },
       "height": 0.5,
       "id": "beabed98-6fd0-4066-82b2-c9077db1fe83",
       "width": 1
      }
     }
    }
   },
   "themes": {
    "default": "c1c43d26-9505-40e5-bf1a-636b7a2a0cda",
    "theme": {
     "c1c43d26-9505-40e5-bf1a-636b7a2a0cda": {
      "id": "c1c43d26-9505-40e5-bf1a-636b7a2a0cda",
      "palette": {
       "19cc588f-0593-49c9-9f4b-e4d7cc113b1c": {
        "id": "19cc588f-0593-49c9-9f4b-e4d7cc113b1c",
        "rgb": [
         252,
         252,
         252
        ]
       },
       "31af15d2-7e15-44c5-ab5e-e04b16a89eff": {
        "id": "31af15d2-7e15-44c5-ab5e-e04b16a89eff",
        "rgb": [
         68,
         68,
         68
        ]
       },
       "50f92c45-a630-455b-aec3-788680ec7410": {
        "id": "50f92c45-a630-455b-aec3-788680ec7410",
        "rgb": [
         155,
         177,
         192
        ]
       },
       "c5cc3653-2ee1-402a-aba2-7caae1da4f6c": {
        "id": "c5cc3653-2ee1-402a-aba2-7caae1da4f6c",
        "rgb": [
         43,
         126,
         184
        ]
       },
       "efa7f048-9acb-414c-8b04-a26811511a21": {
        "id": "efa7f048-9acb-414c-8b04-a26811511a21",
        "rgb": [
         25.118061674008803,
         73.60176211453744,
         107.4819383259912
        ]
       }
      },
      "rules": {
       "blockquote": {
        "color": "50f92c45-a630-455b-aec3-788680ec7410"
       },
       "code": {
        "font-family": "Anonymous Pro"
       },
       "h1": {
        "color": "c5cc3653-2ee1-402a-aba2-7caae1da4f6c",
        "font-family": "Lato",
        "font-size": 8
       },
       "h2": {
        "color": "c5cc3653-2ee1-402a-aba2-7caae1da4f6c",
        "font-family": "Lato",
        "font-size": 6
       },
       "h3": {
        "color": "50f92c45-a630-455b-aec3-788680ec7410",
        "font-family": "Lato",
        "font-size": 5.5
       },
       "h4": {
        "color": "c5cc3653-2ee1-402a-aba2-7caae1da4f6c",
        "font-family": "Lato",
        "font-size": 5
       },
       "h5": {
        "font-family": "Lato"
       },
       "h6": {
        "font-family": "Lato"
       },
       "h7": {
        "font-family": "Lato"
       },
       "pre": {
        "font-family": "Anonymous Pro",
        "font-size": 4
       }
      },
      "text-base": {
       "font-family": "Merriweather",
       "font-size": 4
      }
     }
    }
   }
  }
 },
 "nbformat": 4,
 "nbformat_minor": 0
}
