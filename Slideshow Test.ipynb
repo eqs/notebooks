{
 "cells": [
  {
   "cell_type": "markdown",
   "metadata": {
    "slideshow": {
     "slide_type": "slide"
    }
   },
   "source": [
    "# Test of Slideshow on Jupyter Notebook\n",
    "\n",
    "Presenter: eqs"
   ]
  },
  {
   "cell_type": "markdown",
   "metadata": {
    "slideshow": {
     "slide_type": "slide"
    }
   },
   "source": [
    "# Purpose of This Presentation\n",
    "\n",
    "* This Presentation was created to check behavior of RISE.\n",
    "    * RISE is Jupyter Notebook extension for Slideshow."
   ]
  },
  {
   "cell_type": "markdown",
   "metadata": {
    "slideshow": {
     "slide_type": "slide"
    }
   },
   "source": [
    "# MathJax Test\n",
    "\n",
    "* Jupyter Notebook can present equations by using MathJax.\n",
    "    * Example: Gauss' distribution is defined as:\n",
    "\\begin{align}\n",
    "p(x) = \\frac{1}{\\sqrt{2\\pi}\\sigma}\\exp{\\left( -\\frac{(x-\\mu)^2}{\\sigma^2} \\right)}\n",
    "\\end{align}"
   ]
  },
  {
   "cell_type": "markdown",
   "metadata": {
    "slideshow": {
     "slide_type": "slide"
    }
   },
   "source": [
    "# Python Code\n",
    "\n",
    "* Jupyter Notebook can execute Python code and record its results.\n",
    "    * Example: Compute $1 + 2 + \\cdots + 100$"
   ]
  },
  {
   "cell_type": "code",
   "execution_count": 1,
   "metadata": {
    "collapsed": false
   },
   "outputs": [
    {
     "data": {
      "text/plain": [
       "5050"
      ]
     },
     "execution_count": 1,
     "metadata": {},
     "output_type": "execute_result"
    }
   ],
   "source": [
    "import numpy as np\n",
    "\n",
    "a = np.arange(101)\n",
    "np.sum(a)"
   ]
  },
  {
   "cell_type": "markdown",
   "metadata": {
    "slideshow": {
     "slide_type": "slide"
    }
   },
   "source": [
    "# Conclusion\n",
    "\n",
    "* This Presentation is Test of RISE.\n",
    "* Jupyter Notebook is awesome."
   ]
  }
 ],
 "metadata": {
  "anaconda-cloud": {},
  "celltoolbar": "Slideshow",
  "kernelspec": {
   "display_name": "Python [default]",
   "language": "python",
   "name": "python3"
  },
  "language_info": {
   "codemirror_mode": {
    "name": "ipython",
    "version": 3
   },
   "file_extension": ".py",
   "mimetype": "text/x-python",
   "name": "python",
   "nbconvert_exporter": "python",
   "pygments_lexer": "ipython3",
   "version": "3.5.1"
  }
 },
 "nbformat": 4,
 "nbformat_minor": 0
}
