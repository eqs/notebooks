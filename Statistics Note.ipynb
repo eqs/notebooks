{
 "cells": [
  {
   "cell_type": "markdown",
   "metadata": {
    "slideshow": {
     "slide_type": "slide"
    }
   },
   "source": [
    "# 統計学ノート\n",
    "\n",
    "## 参考文献\n",
    "\n",
    "* Pythonの関数とRの関数の対応\n",
    "    * http://mathesaurus.sourceforge.net/r-numpy.html\n",
    "* プロット時のグラフィックスパラメタ\n",
    "    * http://cse.naro.affrc.go.jp/takezawa/r-tips/r/53.html"
   ]
  },
  {
   "cell_type": "markdown",
   "metadata": {
    "slideshow": {
     "slide_type": "slide"
    }
   },
   "source": [
    "## 推測統計\n",
    "\n",
    "* 推測統計：大きな集団から取り出した一部のデータを用いて元の集団の性質について推測する\n",
    "    * 大きな集団の例：日本国民全体，工場で生産される製品全体，…\n",
    "    * 統計的性質の例：度数の比率，平均，分散，…\n",
    "* 大きな集団を**母集団**，取り出したデータの一部を**標本**，母集団の性質を表す統計的指標を**母数**とよぶ．\n",
    "\n",
    "### 推定\n",
    "\n",
    "* 推定：具体的な値を用いて「母数の値は〇〇ぐらいだろう」という結論を導く．\n",
    "    * ex.) 「日本の中学生全体の学力テストの平均は60点ぐらいだろう」\n",
    "* 点推定：1つの値で推定の結果を表す．\n",
    "* 区間推定：「〇〇点から××点」のようにある程度の幅をもった区間で結果を表す．\n",
    "\n",
    "### 点推定\n",
    "\n",
    "* 例：17歳の日本人男性全体の平均身長の推定\n",
    "    * $N=10$の標本が以下のように与えられる．\n",
    "    \n",
    "```\n",
    "165.2, 175.9, 161.7, 174.2, 172.1, 163.3, 170.9, 170.6, 168.4, 171.3\n",
    "```"
   ]
  },
  {
   "cell_type": "code",
   "execution_count": 2,
   "metadata": {
    "collapsed": false,
    "slideshow": {
     "slide_type": "slide"
    }
   },
   "outputs": [
    {
     "data": {
      "text/html": [
       "169.36"
      ],
      "text/latex": [
       "169.36"
      ],
      "text/markdown": [
       "169.36"
      ],
      "text/plain": [
       "[1] 169.36"
      ]
     },
     "metadata": {},
     "output_type": "display_data"
    }
   ],
   "source": [
    "height <- c(165.2, 175.9, 161.7, 174.2, 172.1, 163.3, 170.9, 170.6, 168.4, 171.3)\n",
    "mean(height)"
   ]
  },
  {
   "cell_type": "code",
   "execution_count": 42,
   "metadata": {
    "collapsed": false,
    "slideshow": {
     "slide_type": "slide"
    }
   },
   "outputs": [
    {
     "data": {
      "image/png": "[encoded data removed]",
      "text/plain": [
       "plot without title"
      ]
     },
     "metadata": {},
     "output_type": "display_data"
    }
   ],
   "source": [
    "x <- seq(-10, 10, 0.1)\n",
    "y = dnorm(x, mean=0, sd=1)\n",
    "z = dnorm(x, mean=1, sd=2)\n",
    "plot(x, y, type='l', col='red',  xlim=c(-10, 10), ylim=c(0, 0.5), ann=F)\n",
    "par(new=T)\n",
    "plot(x, z, type='l', col='blue', xlim=c(-10, 10), ylim=c(0, 0.5), xlab=\"X\", ylab=\"Y\")"
   ]
  }
 ],
 "metadata": {
  "celltoolbar": "Slideshow",
  "kernelspec": {
   "display_name": "R",
   "language": "R",
   "name": "ir"
  },
  "language_info": {
   "codemirror_mode": "r",
   "file_extension": ".r",
   "mimetype": "text/x-r-source",
   "name": "R",
   "pygments_lexer": "r",
   "version": "3.3.1"
  }
 },
 "nbformat": 4,
 "nbformat_minor": 0
}
