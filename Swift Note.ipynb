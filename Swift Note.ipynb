{
 "cells": [
  {
   "cell_type": "markdown",
   "metadata": {},
   "source": [
    "# Swiftに関するメモ\n",
    "\n",
    "* Swift : https://github.com/apple/swift\n",
    "\n",
    "## 参考になりそうな記事\n",
    "\n",
    "* Xcodeなしで楽しむSwift (REPLからライブラリ生成まで)\n",
    "    * http://qiita.com/demmy/items/c4a6a430787d3097a6df\n",
    "* Swiftでのアプリ開発時、ストーリーボードを使用せずにアプリ開発を行う方法。\n",
    "    * http://qiita.com/1000VICKY/items/ba71d44d793cacbba508\n",
    "* 開発が爆速になるSwift用Xcodeプラグインをまとめてみた\n",
    "    * http://qiita.com/tattn/items/238b2b813be16f830bd4\n",
    "* Using Vim instead of (or with) Xcode for iOS development\n",
    "    * http://stackoverflow.com/questions/11519891/using-vim-instead-of-or-with-xcode-for-ios-development\n",
    "\n",
    "## Swiftで画像処理\n",
    "\n",
    "* Swiftで画像認識カメラ作るためのリサーチメモ - 木木木\n",
    "    * http://source.hatenadiary.jp/entry/2016/05/01/174455\n",
    "* SwiftでOpenCVを使ってみた｜画像処理だけで飯が食えるかっ！？\n",
    "    * http://ameblo.jp/sakiyamak/entry-11869974993.html\n",
    "* try! Swift Core Imageによる高度な画像処理\" #tryswiftconf Day3-5 - niwatakoのはてなブログ\n",
    "    * http://niwatako.hatenablog.jp/entry/2016/03/04/131353\n",
    "* Swiftで画像をめちゃくちゃ簡単にあつかえるライブラリ - Qiita\n",
    "    * http://qiita.com/koher/items/7dc1aa10755b79102539\n",
    "\n"
   ]
  }
 ],
 "metadata": {
  "anaconda-cloud": {},
  "kernelspec": {
   "display_name": "Python [default]",
   "language": "python",
   "name": "python3"
  },
  "language_info": {
   "codemirror_mode": {
    "name": "ipython",
    "version": 3
   },
   "file_extension": ".py",
   "mimetype": "text/x-python",
   "name": "python",
   "nbconvert_exporter": "python",
   "pygments_lexer": "ipython3",
   "version": "3.5.2"
  }
 },
 "nbformat": 4,
 "nbformat_minor": 1
}
