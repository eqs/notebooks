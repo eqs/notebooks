{
 "cells": [
  {
   "cell_type": "markdown",
   "metadata": {},
   "source": [
    "# Node.jsに関するノート\n",
    "\n",
    "* 本家 : https://nodejs.org/ja/\n",
    "\n",
    "* Wikipedia : https://ja.wikipedia.org/wiki/Node.js\n",
    "    * サーバサイドをJavascriptで記述する環境．\n",
    "    \n",
    "## Node.js入門の参考になりそうな記事\n",
    "\n",
    "* Node.js を5分で大雑把に理解する - Qiita\n",
    "    * http://qiita.com/hshimo/items/1ecb7ed1b567aacbe559\n",
    "\n",
    "## Jupyter Notebook + Node.js\n",
    "\n",
    "* Jupyter Notebook入れてNodejsのカーネルも入れる - みんなのちからになりたい\n",
    "    * http://ginzanomama.hatenablog.com/entry/2015/12/15/202820\n",
    "\n",
    "## Electronの記事\n",
    "\n",
    "* Electronでアプリケーションを作ってみよう - Qiita\n",
    "    * http://qiita.com/Quramy/items/a4be32769366cfe55778\n",
    "* Electronの手習い〜Electron環境からパッケージ化まで〜 - Qiita\n",
    "    * http://qiita.com/tagosaku324/items/c720499080d523bbe1d7"
   ]
  }
 ],
 "metadata": {
  "anaconda-cloud": {},
  "kernelspec": {
   "display_name": "Python [default]",
   "language": "python",
   "name": "python3"
  },
  "language_info": {
   "codemirror_mode": {
    "name": "ipython",
    "version": 3
   },
   "file_extension": ".py",
   "mimetype": "text/x-python",
   "name": "python",
   "nbconvert_exporter": "python",
   "pygments_lexer": "ipython3",
   "version": "3.5.2"
  }
 },
 "nbformat": 4,
 "nbformat_minor": 0
}
