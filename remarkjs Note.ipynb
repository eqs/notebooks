{
 "cells": [
  {
   "cell_type": "markdown",
   "metadata": {},
   "source": [
    "# Remark.jsに関するメモ\n",
    "\n",
    "## Remark.jsのリポジトリ\n",
    "\n",
    "* https://github.com/gnab/remark\n",
    "\n",
    "## Remark.js + MathJax\n",
    "\n",
    "* 参考記事：\n",
    "    * http://hamukazu.com/2015/02/04/inserting-mathjax-formula-into-remarkjs/\n",
    "\n",
    "## 発表者ビューとプレゼンテーションをわける方法\n",
    "\n",
    "1. ブラウザでindex.htmlを開く．\n",
    "1. Cキーでプレゼンを複製する．\n",
    "1. 複製したプレゼンの片方を発表者の画面側に，もう片方をスクリーン側に持っていく．\n",
    "1. 発表者の画面側をPキーで発表者ビューに，スクリーン側をfキーでフルスクリーンにする．\n",
    "1. スライドを複製しているので，手元の画面とスクリーンの画面が連動して動く！"
   ]
  }
 ],
 "metadata": {
  "anaconda-cloud": {},
  "kernelspec": {
   "display_name": "Python [default]",
   "language": "python",
   "name": "python3"
  },
  "language_info": {
   "codemirror_mode": {
    "name": "ipython",
    "version": 3
   },
   "file_extension": ".py",
   "mimetype": "text/x-python",
   "name": "python",
   "nbconvert_exporter": "python",
   "pygments_lexer": "ipython3",
   "version": "3.5.2"
  }
 },
 "nbformat": 4,
 "nbformat_minor": 0
}
